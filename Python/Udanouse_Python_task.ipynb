{
 "cells": [
  {
   "cell_type": "code",
   "execution_count": 1,
   "id": "3c7e9238-cd76-4893-b6f8-6d1782459c50",
   "metadata": {},
   "outputs": [
    {
     "name": "stdout",
     "output_type": "stream",
     "text": [
      "Enter the Value 34\n"
     ]
    },
    {
     "name": "stdout",
     "output_type": "stream",
     "text": [
      "Fail\n"
     ]
    }
   ],
   "source": [
    "a = int(input(\"Enter the Value\"))\n",
    "if a >= 80:\n",
    "    print(\"Pass\")\n",
    "elif a >= 90:\n",
    "    print(\"excellent\")\n",
    "elif a <= 35:\n",
    "    print(\"Fail\")\n",
    "else:\n",
    "    print(\"Go Home\")"
   ]
  },
  {
   "cell_type": "code",
   "execution_count": 33,
   "id": "22d5f391-343d-42e4-a81c-e8754a88c9e8",
   "metadata": {},
   "outputs": [
    {
     "name": "stdout",
     "output_type": "stream",
     "text": [
      "Very Good\n"
     ]
    }
   ],
   "source": [
    "marks = 90\n",
    "if marks >= 70 and marks <= 90:\n",
    "    print(\"Very Good\")\n",
    "elif marks >= 50 and marks <= 70:\n",
    "    print(\"Good\")\n",
    "elif marks >= 35 and marks <= 50:\n",
    "    print(\"Not that Good\")\n",
    "else:\n",
    "    print(\"Sorry You Are Failed\")\n"
   ]
  },
  {
   "cell_type": "code",
   "execution_count": 53,
   "id": "0a156cef-1fc6-4dd4-ac34-3380446e3845",
   "metadata": {},
   "outputs": [
    {
     "name": "stdout",
     "output_type": "stream",
     "text": [
      "[9, 9, 8, 8, 7, 6, 5, 4, 3, 2, 1]\n"
     ]
    }
   ],
   "source": [
    "a = [1,2,3,4,5,6,7,8,8,9,9]\n",
    "print(a[::-1]) "
   ]
  },
  {
   "cell_type": "code",
   "execution_count": 47,
   "id": "5448fa73-5cc6-4228-ab7c-2ecfc3a974c5",
   "metadata": {},
   "outputs": [],
   "source": [
    "a ={1,2,3,4,5,6,1,1,1,1,4,5,6,2,2,2,4,4,5,6}"
   ]
  },
  {
   "cell_type": "code",
   "execution_count": 65,
   "id": "58194698-3523-483e-974f-c78453f4b2c3",
   "metadata": {},
   "outputs": [
    {
     "name": "stdout",
     "output_type": "stream",
     "text": [
      "Hello Piyush\n",
      "Hello Shubham_1\n",
      "Hello Shubham_2\n",
      "Hello Vinit\n",
      "Hello Sakshi\n"
     ]
    }
   ],
   "source": [
    "#For loop practice\n",
    "a = [\"Piyush\", \"Shubham_1\", \"Shubham_2\", \"Vinit\", \"Sakshi\"]\n",
    "for i in a:\n",
    "    print(f\"Hello {i}\")"
   ]
  },
  {
   "cell_type": "code",
   "execution_count": 87,
   "id": "936e69d0-5d12-44fa-951a-178e3193bfdc",
   "metadata": {},
   "outputs": [
    {
     "name": "stdout",
     "output_type": "stream",
     "text": [
      "index: 1 number: 0\n",
      "index: 2 number: 1\n",
      "index: 3 number: 2\n",
      "index: 4 number: 3\n",
      "index: 5 number: 4\n",
      "index: 6 number: 5\n"
     ]
    }
   ],
   "source": [
    "a = [1,2,3,4,5,6]\n",
    "for i, j in enumerate(a):\n",
    "    print(f\"index: {j} number: {i}\")"
   ]
  },
  {
   "cell_type": "code",
   "execution_count": 95,
   "id": "01637605-ec24-4fa9-a046-fcb09495e4b8",
   "metadata": {},
   "outputs": [
    {
     "name": "stdout",
     "output_type": "stream",
     "text": [
      "1 Positive Number\n",
      "2 Positive Number\n",
      "3 Positive Number\n",
      "4 Positive Number\n",
      "5 Positive Number\n",
      "no number\n",
      "-5 negative Number\n",
      "-4 negative Number\n",
      "-3 negative Number\n",
      "-2 negative Number\n",
      "-1 negative Number\n"
     ]
    }
   ],
   "source": [
    "Digits = [1,2,3,4,5,0,-5,-4,-3,-2,-1]\n",
    "for i in Digits:\n",
    "    if i > 0:\n",
    "        print(f\"{i} Positive Number\")\n",
    "    elif i < 0:\n",
    "        print(f\"{i} negative Number\")\n",
    "    else:\n",
    "        print(\"no number\")"
   ]
  },
  {
   "cell_type": "code",
   "execution_count": 115,
   "id": "314cf34c-6122-4baf-977d-660b3a71df9d",
   "metadata": {},
   "outputs": [
    {
     "name": "stdout",
     "output_type": "stream",
     "text": [
      "4\n",
      "8\n",
      "12\n",
      "16\n",
      "20\n",
      "24\n",
      "28\n",
      "32\n",
      "36\n",
      "40\n"
     ]
    }
   ],
   "source": [
    "i = 1\n",
    "n = 4\n",
    "while i <= 10:\n",
    "    print(n*i)\n",
    "    i += 1"
   ]
  },
  {
   "cell_type": "code",
   "execution_count": 133,
   "id": "d639b606-3c8f-4ea8-b05a-de846e92d1e6",
   "metadata": {},
   "outputs": [
    {
     "name": "stdout",
     "output_type": "stream",
     "text": [
      "batman\n",
      "flash\n",
      "superMan\n",
      "spiderman\n",
      "ironman\n"
     ]
    }
   ],
   "source": [
    "heroes = [\"batman\", \"flash\", \"superMan\", \"spiderman\", \"ironman\"]\n",
    "i = 0\n",
    "while i < len(heroes):\n",
    "    print(heroes[i])\n",
    "    i+=1"
   ]
  },
  {
   "cell_type": "code",
   "execution_count": null,
   "id": "24697c61-4f47-4d74-bb41-1d38fd7e47d9",
   "metadata": {},
   "outputs": [],
   "source": [
    "def add(a,b):\n",
    "    print(a+b)"
   ]
  },
  {
   "cell_type": "code",
   "execution_count": null,
   "id": "464b075b",
   "metadata": {},
   "outputs": [],
   "source": [
    "print(add(5,6))"
   ]
  },
  {
   "cell_type": "code",
   "execution_count": null,
   "id": "bfda1250",
   "metadata": {},
   "outputs": [],
   "source": []
  }
 ],
 "metadata": {
  "kernelspec": {
   "display_name": "Python [conda env:base] *",
   "language": "python",
   "name": "conda-base-py"
  },
  "language_info": {
   "codemirror_mode": {
    "name": "ipython",
    "version": 3
   },
   "file_extension": ".py",
   "mimetype": "text/x-python",
   "name": "python",
   "nbconvert_exporter": "python",
   "pygments_lexer": "ipython3",
   "version": "3.12.7"
  }
 },
 "nbformat": 4,
 "nbformat_minor": 5
}
